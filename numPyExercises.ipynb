{
  "nbformat": 4,
  "nbformat_minor": 0,
  "metadata": {
    "colab": {
      "name": "numPyExercises",
      "provenance": [],
      "toc_visible": true
    },
    "kernelspec": {
      "name": "python3",
      "display_name": "Python 3"
    }
  },
  "cells": [
    {
      "cell_type": "code",
      "metadata": {
        "id": "W8j39JuCB494",
        "colab_type": "code",
        "colab": {}
      },
      "source": [
        ""
      ],
      "execution_count": 0,
      "outputs": []
    },
    {
      "cell_type": "markdown",
      "metadata": {
        "id": "a5XwOV8ECI5N",
        "colab_type": "text"
      },
      "source": [
        "# Excercise on finding number of points outside n dimential sphere\n"
      ]
    },
    {
      "cell_type": "code",
      "metadata": {
        "id": "BP8LWbXmCb6s",
        "colab_type": "code",
        "colab": {}
      },
      "source": [
        "import numpy as np"
      ],
      "execution_count": 0,
      "outputs": []
    },
    {
      "cell_type": "code",
      "metadata": {
        "id": "qbWUg58wCLJq",
        "colab_type": "code",
        "colab": {}
      },
      "source": [
        "ndim = 2"
      ],
      "execution_count": 0,
      "outputs": []
    },
    {
      "cell_type": "code",
      "metadata": {
        "id": "pJPkCi0tCPr3",
        "colab_type": "code",
        "colab": {}
      },
      "source": [
        "npoints = 100000\n"
      ],
      "execution_count": 0,
      "outputs": []
    },
    {
      "cell_type": "code",
      "metadata": {
        "id": "gvYQ6r6TCZQn",
        "colab_type": "code",
        "colab": {}
      },
      "source": [
        "points = np.random.rand(npoints,ndim)\n"
      ],
      "execution_count": 0,
      "outputs": []
    },
    {
      "cell_type": "code",
      "metadata": {
        "id": "cwkpcMKXCoaB",
        "colab_type": "code",
        "outputId": "e8f06bb3-e459-421b-f091-e079fffac17c",
        "colab": {
          "base_uri": "https://localhost:8080/",
          "height": 51
        }
      },
      "source": [
        "points[0:2,:]\n"
      ],
      "execution_count": 0,
      "outputs": [
        {
          "output_type": "execute_result",
          "data": {
            "text/plain": [
              "array([[0.07460343, 0.1412852 ],\n",
              "       [0.20757094, 0.24214885]])"
            ]
          },
          "metadata": {
            "tags": []
          },
          "execution_count": 9
        }
      ]
    },
    {
      "cell_type": "code",
      "metadata": {
        "id": "8iP6-DY6CtAx",
        "colab_type": "code",
        "colab": {}
      },
      "source": [
        "  dfo = np.zeros((npoints,1))"
      ],
      "execution_count": 0,
      "outputs": []
    },
    {
      "cell_type": "code",
      "metadata": {
        "id": "vaKd1rfpAUyy",
        "colab_type": "code",
        "outputId": "44072562-81c4-41f7-86c2-6144d589a53b",
        "colab": {
          "base_uri": "https://localhost:8080/",
          "height": 136
        }
      },
      "source": [
        "print(dfo)"
      ],
      "execution_count": 0,
      "outputs": [
        {
          "output_type": "stream",
          "text": [
            "[[0.]\n",
            " [0.]\n",
            " [0.]\n",
            " ...\n",
            " [0.]\n",
            " [0.]\n",
            " [0.]]\n"
          ],
          "name": "stdout"
        }
      ]
    },
    {
      "cell_type": "code",
      "metadata": {
        "id": "EY4mz5JXDEK6",
        "colab_type": "code",
        "colab": {}
      },
      "source": [
        "outside_points = 0"
      ],
      "execution_count": 0,
      "outputs": []
    },
    {
      "cell_type": "code",
      "metadata": {
        "id": "Q-JcoHmKDQg9",
        "colab_type": "code",
        "colab": {}
      },
      "source": [
        "%%time\n",
        "for i in range(npoints):\n",
        "   for j in range(ndim):\n",
        "     dfo[i] += points[i,j] ** 2\n",
        "   dfo[i] = np.sqrt(dfo[i])\n",
        "   if dfo[i] > 1:\n",
        "        outside_points +=1\n"
      ],
      "execution_count": 0,
      "outputs": []
    },
    {
      "cell_type": "code",
      "metadata": {
        "id": "EK413vxQD5yc",
        "colab_type": "code",
        "outputId": "d64e36f1-b078-455a-912e-d73a350b0514",
        "colab": {
          "base_uri": "https://localhost:8080/",
          "height": 34
        }
      },
      "source": [
        "print('Fraction of points outside ',outside_points/npoints)"
      ],
      "execution_count": 0,
      "outputs": [
        {
          "output_type": "stream",
          "text": [
            "Fraction of points outside  0.2145313\n"
          ],
          "name": "stdout"
        }
      ]
    },
    {
      "cell_type": "code",
      "metadata": {
        "id": "sL4NzC4iEL3J",
        "colab_type": "code",
        "outputId": "09d61e82-0384-4e28-9401-18151e768d7d",
        "colab": {
          "base_uri": "https://localhost:8080/",
          "height": 34
        }
      },
      "source": [
        "# 1 - (pi/4)\n",
        "1-3.14/4"
      ],
      "execution_count": 0,
      "outputs": [
        {
          "output_type": "execute_result",
          "data": {
            "text/plain": [
              "0.21499999999999997"
            ]
          },
          "metadata": {
            "tags": []
          },
          "execution_count": 28
        }
      ]
    },
    {
      "cell_type": "code",
      "metadata": {
        "id": "17oAelZqEWfe",
        "colab_type": "code",
        "outputId": "32affbbf-8cb4-4d95-ebc6-1b152e05392d",
        "colab": {
          "base_uri": "https://localhost:8080/",
          "height": 34
        }
      },
      "source": [
        "# instead of two for loops we can make use of built in functions of pi\n",
        "%%time\n",
        "sq_points = points * points\n",
        "dfo = np.sqrt(np.sum(sq_points,axis=1))\n",
        "outside_points = np.sum(dfo > 1)\n",
        "print('Fraction of points outside ',outside_points/npoints)"
      ],
      "execution_count": 0,
      "outputs": [
        {
          "output_type": "stream",
          "text": [
            "Fraction of points outside  0.21509\n"
          ],
          "name": "stdout"
        }
      ]
    },
    {
      "cell_type": "code",
      "metadata": {
        "id": "PRT3iisWGjHw",
        "colab_type": "code",
        "outputId": "62b8e86a-95a9-4211-a542-56d4870e290f",
        "colab": {
          "base_uri": "https://localhost:8080/",
          "height": 51
        }
      },
      "source": [
        "%%time\n",
        "outside_points = np.sum(np.sum(points * points,axis=1) > 1)"
      ],
      "execution_count": 0,
      "outputs": [
        {
          "output_type": "stream",
          "text": [
            "CPU times: user 3.13 ms, sys: 994 µs, total: 4.13 ms\n",
            "Wall time: 3.44 ms\n"
          ],
          "name": "stdout"
        }
      ]
    },
    {
      "cell_type": "code",
      "metadata": {
        "id": "JZWjjxp_G63I",
        "colab_type": "code",
        "colab": {}
      },
      "source": [
        "def area_outside_square(npoints,ndim):\n",
        "    points = np.random.rand(npoints,ndim)\n",
        "    return np.sum(np.sum(points * points,axis=1) > 1)/npoints"
      ],
      "execution_count": 0,
      "outputs": []
    },
    {
      "cell_type": "code",
      "metadata": {
        "id": "fbhmGD-CHVTD",
        "colab_type": "code",
        "outputId": "0caa72ee-4c2f-4f36-d08f-a6a237ad34b0",
        "colab": {
          "base_uri": "https://localhost:8080/",
          "height": 34
        }
      },
      "source": [
        "print('fraction of points for 3rd dim',area_outside_square(10000,2))"
      ],
      "execution_count": 0,
      "outputs": [
        {
          "output_type": "stream",
          "text": [
            "fraction of points for 3rd dim 0.2147\n"
          ],
          "name": "stdout"
        }
      ]
    },
    {
      "cell_type": "code",
      "metadata": {
        "id": "cXNpf8YHDK2w",
        "colab_type": "code",
        "colab": {}
      },
      "source": [
        ""
      ],
      "execution_count": 0,
      "outputs": []
    },
    {
      "cell_type": "markdown",
      "metadata": {
        "id": "LQxl_ACyDLg2",
        "colab_type": "text"
      },
      "source": [
        "# Broadcasting\n"
      ]
    },
    {
      "cell_type": "code",
      "metadata": {
        "id": "8kAEAW8iDP1l",
        "colab_type": "code",
        "colab": {}
      },
      "source": [
        "arr1 = np.arange(6)"
      ],
      "execution_count": 0,
      "outputs": []
    },
    {
      "cell_type": "code",
      "metadata": {
        "id": "Lb8xuHcsFbay",
        "colab_type": "code",
        "outputId": "90c6383d-b51f-4ee8-abdc-7ddae92b4249",
        "colab": {
          "base_uri": "https://localhost:8080/",
          "height": 34
        }
      },
      "source": [
        "arr1.shape"
      ],
      "execution_count": 0,
      "outputs": [
        {
          "output_type": "execute_result",
          "data": {
            "text/plain": [
              "(6,)"
            ]
          },
          "metadata": {
            "tags": []
          },
          "execution_count": 5
        }
      ]
    },
    {
      "cell_type": "code",
      "metadata": {
        "id": "ho3KQjyFFe58",
        "colab_type": "code",
        "colab": {}
      },
      "source": [
        ""
      ],
      "execution_count": 0,
      "outputs": []
    },
    {
      "cell_type": "markdown",
      "metadata": {
        "id": "PylkXrw6Ffxo",
        "colab_type": "text"
      },
      "source": [
        "# Reshaping the array\n",
        "\n"
      ]
    },
    {
      "cell_type": "code",
      "metadata": {
        "id": "yS1vSlJzFh5C",
        "colab_type": "code",
        "colab": {}
      },
      "source": [
        "arr1 = arr1.reshape((3,2))"
      ],
      "execution_count": 0,
      "outputs": []
    },
    {
      "cell_type": "code",
      "metadata": {
        "id": "qqdyxRX-FmWP",
        "colab_type": "code",
        "outputId": "0532109c-7ccc-4da8-f9b1-31b8a50edfd2",
        "colab": {
          "base_uri": "https://localhost:8080/",
          "height": 51
        }
      },
      "source": [
        "arr1"
      ],
      "execution_count": 0,
      "outputs": [
        {
          "output_type": "execute_result",
          "data": {
            "text/plain": [
              "array([[0, 1, 2],\n",
              "       [3, 4, 5]])"
            ]
          },
          "metadata": {
            "tags": []
          },
          "execution_count": 7
        }
      ]
    },
    {
      "cell_type": "code",
      "metadata": {
        "id": "aGoDtp68FpsM",
        "colab_type": "code",
        "colab": {}
      },
      "source": [
        "arr2 = np.arange(6).reshape((3,2))"
      ],
      "execution_count": 0,
      "outputs": []
    },
    {
      "cell_type": "code",
      "metadata": {
        "id": "7VpZBgPwF3kD",
        "colab_type": "code",
        "outputId": "9bcee81b-ac23-4cb5-f26c-d0ac0d707ff1",
        "colab": {
          "base_uri": "https://localhost:8080/",
          "height": 68
        }
      },
      "source": [
        "arr1 + arr2"
      ],
      "execution_count": 0,
      "outputs": [
        {
          "output_type": "execute_result",
          "data": {
            "text/plain": [
              "array([[ 0,  2],\n",
              "       [ 4,  6],\n",
              "       [ 8, 10]])"
            ]
          },
          "metadata": {
            "tags": []
          },
          "execution_count": 11
        }
      ]
    },
    {
      "cell_type": "code",
      "metadata": {
        "id": "gHy3l6rXGCMq",
        "colab_type": "code",
        "outputId": "d75ff35e-27f4-436e-b595-c729bd1b3b7d",
        "colab": {
          "base_uri": "https://localhost:8080/",
          "height": 34
        }
      },
      "source": [
        "arr2[0].reshape((1,2))"
      ],
      "execution_count": 0,
      "outputs": [
        {
          "output_type": "execute_result",
          "data": {
            "text/plain": [
              "array([[0, 1]])"
            ]
          },
          "metadata": {
            "tags": []
          },
          "execution_count": 12
        }
      ]
    },
    {
      "cell_type": "code",
      "metadata": {
        "id": "EpM3Q-lWGL_4",
        "colab_type": "code",
        "outputId": "b60024b0-6831-488f-f3d1-f00cf44cf633",
        "colab": {
          "base_uri": "https://localhost:8080/",
          "height": 68
        }
      },
      "source": [
        "arr1 + arr2[0].reshape((1,2))"
      ],
      "execution_count": 0,
      "outputs": [
        {
          "output_type": "execute_result",
          "data": {
            "text/plain": [
              "array([[0, 2],\n",
              "       [2, 4],\n",
              "       [4, 6]])"
            ]
          },
          "metadata": {
            "tags": []
          },
          "execution_count": 13
        }
      ]
    },
    {
      "cell_type": "code",
      "metadata": {
        "id": "qqW8PGFmiyPX",
        "colab_type": "code",
        "outputId": "942f11fe-e44e-4a72-a0d6-c38e732578df",
        "colab": {
          "base_uri": "https://localhost:8080/",
          "height": 51
        }
      },
      "source": [
        "arr1.T\n"
      ],
      "execution_count": 0,
      "outputs": [
        {
          "output_type": "execute_result",
          "data": {
            "text/plain": [
              "array([[0, 2, 4],\n",
              "       [1, 3, 5]])"
            ]
          },
          "metadata": {
            "tags": []
          },
          "execution_count": 14
        }
      ]
    },
    {
      "cell_type": "code",
      "metadata": {
        "id": "IjTz46oRi07m",
        "colab_type": "code",
        "colab": {}
      },
      "source": [
        ""
      ],
      "execution_count": 0,
      "outputs": []
    },
    {
      "cell_type": "markdown",
      "metadata": {
        "id": "sOQDA6AUi-Y7",
        "colab_type": "text"
      },
      "source": [
        "# File handling"
      ]
    },
    {
      "cell_type": "code",
      "metadata": {
        "id": "CDw4slcwjO3G",
        "colab_type": "code",
        "colab": {}
      },
      "source": [
        "import numpy as np\n",
        "planets_small = np.loadtxt('planets_small.txt',skiprows = 1,usecols=(1,2,3,4,5,6,7,8,9))"
      ],
      "execution_count": 0,
      "outputs": []
    },
    {
      "cell_type": "code",
      "metadata": {
        "id": "WeX2x1S8kYZ2",
        "colab_type": "code",
        "outputId": "9b97fd29-a9a0-47bd-f889-7fbf1396c753",
        "colab": {
          "base_uri": "https://localhost:8080/",
          "height": 119
        }
      },
      "source": [
        "print(planets_small)"
      ],
      "execution_count": 0,
      "outputs": [
        {
          "output_type": "stream",
          "text": [
            "[[3.3000e-01 4.8700e+00 5.9700e+00 6.4200e-01 1.8980e+03 5.6800e+02\n",
            "  8.6800e+01 1.0200e+02 1.4600e-02]\n",
            " [5.7900e+01 1.0820e+02 1.4960e+02 2.2790e+02 7.7860e+02 1.4335e+03\n",
            "  2.8725e+03 4.4951e+03 5.9064e+03]\n",
            " [4.2226e+03 2.8020e+03 2.4000e+01 2.4700e+01 9.9000e+00 1.0700e+01\n",
            "  1.7200e+01 1.6100e+01 1.5330e+02]]\n"
          ],
          "name": "stdout"
        }
      ]
    },
    {
      "cell_type": "code",
      "metadata": {
        "id": "0qT09LRQkf0-",
        "colab_type": "code",
        "outputId": "d1fb5f18-ebbb-4108-fc8e-707d244bc8ba",
        "colab": {
          "base_uri": "https://localhost:8080/",
          "height": 34
        }
      },
      "source": [
        "planets_small.shape"
      ],
      "execution_count": 0,
      "outputs": [
        {
          "output_type": "execute_result",
          "data": {
            "text/plain": [
              "(3, 9)"
            ]
          },
          "metadata": {
            "tags": []
          },
          "execution_count": 21
        }
      ]
    },
    {
      "cell_type": "markdown",
      "metadata": {
        "id": "cv3IWHGkkkNo",
        "colab_type": "text"
      },
      "source": [
        "By default delimiter is space"
      ]
    },
    {
      "cell_type": "code",
      "metadata": {
        "id": "n3AunFp_jBL1",
        "colab_type": "code",
        "colab": {}
      },
      "source": [
        "planets = np.genfromtxt('planets_many.txt',skip_header = 1,usecols=(1,2,3,4,5,6,7,8,9))"
      ],
      "execution_count": 0,
      "outputs": []
    },
    {
      "cell_type": "code",
      "metadata": {
        "id": "j20uYyIzlQLj",
        "colab_type": "code",
        "colab": {}
      },
      "source": [
        "print(planets)"
      ],
      "execution_count": 0,
      "outputs": []
    },
    {
      "cell_type": "code",
      "metadata": {
        "id": "sCmnGOsflSrz",
        "colab_type": "code",
        "outputId": "3c64f951-36b4-4c83-ac0f-517de5c5abaa",
        "colab": {
          "base_uri": "https://localhost:8080/",
          "height": 34
        }
      },
      "source": [
        "planets.shape"
      ],
      "execution_count": 0,
      "outputs": [
        {
          "output_type": "execute_result",
          "data": {
            "text/plain": [
              "(20, 9)"
            ]
          },
          "metadata": {
            "tags": []
          },
          "execution_count": 26
        }
      ]
    },
    {
      "cell_type": "code",
      "metadata": {
        "id": "fnsye9BtlV2U",
        "colab_type": "code",
        "colab": {}
      },
      "source": [
        "np.isnan(planets)"
      ],
      "execution_count": 0,
      "outputs": []
    },
    {
      "cell_type": "code",
      "metadata": {
        "id": "myEtHOtwlbCX",
        "colab_type": "code",
        "colab": {}
      },
      "source": [
        ""
      ],
      "execution_count": 0,
      "outputs": []
    },
    {
      "cell_type": "markdown",
      "metadata": {
        "id": "34OJyGL6ljS3",
        "colab_type": "text"
      },
      "source": [
        "### convert nan into something"
      ]
    },
    {
      "cell_type": "code",
      "metadata": {
        "id": "r1jsR6QvloBE",
        "colab_type": "code",
        "colab": {}
      },
      "source": [
        "planets_new = np.nan_to_num(planets,nan=-1)"
      ],
      "execution_count": 0,
      "outputs": []
    },
    {
      "cell_type": "code",
      "metadata": {
        "id": "nRVGzcAfluV3",
        "colab_type": "code",
        "colab": {}
      },
      "source": [
        "print(planets_new)"
      ],
      "execution_count": 0,
      "outputs": []
    },
    {
      "cell_type": "code",
      "metadata": {
        "id": "W7YR5kOHlyab",
        "colab_type": "code",
        "colab": {}
      },
      "source": [
        "np.savetxt('planetsnew.txt',planets_new,delimiter=',')"
      ],
      "execution_count": 0,
      "outputs": []
    },
    {
      "cell_type": "code",
      "metadata": {
        "id": "IvmwwSEamFdm",
        "colab_type": "code",
        "colab": {}
      },
      "source": [
        "np.save(\"planetsnew\",planets_new)"
      ],
      "execution_count": 0,
      "outputs": []
    },
    {
      "cell_type": "code",
      "metadata": {
        "id": "odlBz1lKmouC",
        "colab_type": "code",
        "outputId": "ea4bbd49-6be0-4d76-8ded-a0b398c35032",
        "colab": {
          "base_uri": "https://localhost:8080/",
          "height": 68
        }
      },
      "source": [
        "!ls\n"
      ],
      "execution_count": 0,
      "outputs": [
        {
          "output_type": "stream",
          "text": [
            "planets-200320-181217.txt  planetsnew.txt\t\t    sample_data\n",
            "planets_many.txt\t   planets_small-200320-181217.txt\n",
            "planetsnew.npy\t\t   planets_small.txt\n"
          ],
          "name": "stdout"
        }
      ]
    },
    {
      "cell_type": "code",
      "metadata": {
        "id": "P3wZeWRDmt1K",
        "colab_type": "code",
        "outputId": "d24cb4f6-eef0-4446-dab6-37a799e62330",
        "colab": {
          "base_uri": "https://localhost:8080/",
          "height": 153
        }
      },
      "source": [
        "!ls -lh"
      ],
      "execution_count": 0,
      "outputs": [
        {
          "output_type": "stream",
          "text": [
            "total 32K\n",
            "-rw-r--r-- 1 root root 1.5K Apr 27 16:52 planets-200320-181217.txt\n",
            "-rw-r--r-- 1 root root 1.5K Apr 27 16:57 planets_many.txt\n",
            "-rw-r--r-- 1 root root 1.6K Apr 27 17:04 planetsnew.npy\n",
            "-rw-r--r-- 1 root root 4.5K Apr 27 17:03 planetsnew.txt\n",
            "-rw-r--r-- 1 root root  254 Apr 27 16:52 planets_small-200320-181217.txt\n",
            "-rw-r--r-- 1 root root  254 Apr 27 16:54 planets_small.txt\n",
            "drwxr-xr-x 1 root root 4.0K Apr  3 16:24 sample_data\n"
          ],
          "name": "stdout"
        }
      ]
    },
    {
      "cell_type": "code",
      "metadata": {
        "id": "lYA8U0KwnRre",
        "colab_type": "code",
        "colab": {}
      },
      "source": [
        "np.savez('many_arrays',arr1,arr2,arr2.T)"
      ],
      "execution_count": 0,
      "outputs": []
    },
    {
      "cell_type": "code",
      "metadata": {
        "id": "XwEtIgRxnlk7",
        "colab_type": "code",
        "outputId": "153f6b52-856c-4442-9bb6-bcce07419a13",
        "colab": {
          "base_uri": "https://localhost:8080/",
          "height": 68
        }
      },
      "source": [
        "arr = np.load('many_arrays.npz')\n",
        "print(arr['arr_0'])"
      ],
      "execution_count": 0,
      "outputs": [
        {
          "output_type": "stream",
          "text": [
            "[[0 1]\n",
            " [2 3]\n",
            " [4 5]]\n"
          ],
          "name": "stdout"
        }
      ]
    },
    {
      "cell_type": "code",
      "metadata": {
        "id": "ztyD3k88n_E0",
        "colab_type": "code",
        "colab": {}
      },
      "source": [
        "np.savez_compressed('many_arrays_compressed',arr1,arr2,arr2.T)"
      ],
      "execution_count": 0,
      "outputs": []
    },
    {
      "cell_type": "code",
      "metadata": {
        "id": "L9dmNOcKoKej",
        "colab_type": "code",
        "colab": {}
      },
      "source": [
        "!ls -lh"
      ],
      "execution_count": 0,
      "outputs": []
    },
    {
      "cell_type": "code",
      "metadata": {
        "id": "gEW0dqUDoPGV",
        "colab_type": "code",
        "colab": {}
      },
      "source": [
        "arr0 = np.zeros((10000,10000))"
      ],
      "execution_count": 0,
      "outputs": []
    },
    {
      "cell_type": "code",
      "metadata": {
        "id": "VtToUjTroSv9",
        "colab_type": "code",
        "colab": {}
      },
      "source": [
        "np.savez('zeros',arr0)"
      ],
      "execution_count": 0,
      "outputs": []
    },
    {
      "cell_type": "code",
      "metadata": {
        "id": "HJgGZGdnohsj",
        "colab_type": "code",
        "colab": {}
      },
      "source": [
        "np.savez_compressed('zeros_compressed',arr0)"
      ],
      "execution_count": 0,
      "outputs": []
    },
    {
      "cell_type": "code",
      "metadata": {
        "id": "Pz96Rs6JooGJ",
        "colab_type": "code",
        "outputId": "c701ebbf-3d89-4ba0-c607-4d209bf559a5",
        "colab": {
          "base_uri": "https://localhost:8080/",
          "height": 51
        }
      },
      "source": [
        "!ls -lh | grep zeros"
      ],
      "execution_count": 0,
      "outputs": [
        {
          "output_type": "stream",
          "text": [
            "-rw-r--r-- 1 root root 760K Apr 27 17:14 zeros_compressed.npz\n",
            "-rw-r--r-- 1 root root 763M Apr 27 17:14 zeros.npz\n"
          ],
          "name": "stdout"
        }
      ]
    },
    {
      "cell_type": "markdown",
      "metadata": {
        "id": "f-3_zgsVov9v",
        "colab_type": "text"
      },
      "source": [
        "# Apply Statistical functions on Numpy"
      ]
    },
    {
      "cell_type": "code",
      "metadata": {
        "id": "xH0pV5UYo4Mr",
        "colab_type": "code",
        "colab": {}
      },
      "source": [
        "arr = np.random.rand(100000,)"
      ],
      "execution_count": 0,
      "outputs": []
    },
    {
      "cell_type": "code",
      "metadata": {
        "id": "DcLB8MLgpwaQ",
        "colab_type": "code",
        "outputId": "336404b6-3ae2-411f-b2cd-281341955497",
        "colab": {
          "base_uri": "https://localhost:8080/",
          "height": 34
        }
      },
      "source": [
        "np.amin(arr)"
      ],
      "execution_count": 0,
      "outputs": [
        {
          "output_type": "execute_result",
          "data": {
            "text/plain": [
              "1.4785093628288948e-06"
            ]
          },
          "metadata": {
            "tags": []
          },
          "execution_count": 11
        }
      ]
    },
    {
      "cell_type": "code",
      "metadata": {
        "id": "CeqxtDrrpzmD",
        "colab_type": "code",
        "outputId": "d63ed1f1-b29a-4c3c-be64-7806ba21f89e",
        "colab": {
          "base_uri": "https://localhost:8080/",
          "height": 34
        }
      },
      "source": [
        "np.amax(arr)"
      ],
      "execution_count": 0,
      "outputs": [
        {
          "output_type": "execute_result",
          "data": {
            "text/plain": [
              "0.9999944440770134"
            ]
          },
          "metadata": {
            "tags": []
          },
          "execution_count": 57
        }
      ]
    },
    {
      "cell_type": "code",
      "metadata": {
        "id": "cu9Xek1Ip2VK",
        "colab_type": "code",
        "outputId": "29655f3f-3d11-47d0-bc33-52683ecfa86f",
        "colab": {
          "base_uri": "https://localhost:8080/",
          "height": 34
        }
      },
      "source": [
        "np.mean(arr)"
      ],
      "execution_count": 0,
      "outputs": [
        {
          "output_type": "execute_result",
          "data": {
            "text/plain": [
              "0.5006758639052906"
            ]
          },
          "metadata": {
            "tags": []
          },
          "execution_count": 58
        }
      ]
    },
    {
      "cell_type": "code",
      "metadata": {
        "id": "KjmM2pFip75F",
        "colab_type": "code",
        "outputId": "de381b63-e335-46f7-9739-46f8511fcd44",
        "colab": {
          "base_uri": "https://localhost:8080/",
          "height": 34
        }
      },
      "source": [
        "np.var(arr)"
      ],
      "execution_count": 0,
      "outputs": [
        {
          "output_type": "execute_result",
          "data": {
            "text/plain": [
              "0.08324287777942112"
            ]
          },
          "metadata": {
            "tags": []
          },
          "execution_count": 59
        }
      ]
    },
    {
      "cell_type": "code",
      "metadata": {
        "id": "fAMXOGlYp9kT",
        "colab_type": "code",
        "outputId": "d0605c0f-822f-480d-c8b8-89e85ae59c45",
        "colab": {
          "base_uri": "https://localhost:8080/",
          "height": 34
        }
      },
      "source": [
        "np.std(arr)"
      ],
      "execution_count": 0,
      "outputs": [
        {
          "output_type": "execute_result",
          "data": {
            "text/plain": [
              "0.28851841844052367"
            ]
          },
          "metadata": {
            "tags": []
          },
          "execution_count": 60
        }
      ]
    },
    {
      "cell_type": "code",
      "metadata": {
        "id": "dawIzJiWqAga",
        "colab_type": "code",
        "outputId": "1dfc0ff3-a5fa-46b6-f5c9-2df048981296",
        "colab": {
          "base_uri": "https://localhost:8080/",
          "height": 34
        }
      },
      "source": [
        "np.median(arr)"
      ],
      "execution_count": 0,
      "outputs": [
        {
          "output_type": "execute_result",
          "data": {
            "text/plain": [
              "0.5013817731938435"
            ]
          },
          "metadata": {
            "tags": []
          },
          "execution_count": 61
        }
      ]
    },
    {
      "cell_type": "code",
      "metadata": {
        "id": "Rpq8eO6WqE0g",
        "colab_type": "code",
        "outputId": "cee6f390-7a6f-40d3-841b-dc3a80906f01",
        "colab": {
          "base_uri": "https://localhost:8080/",
          "height": 34
        }
      },
      "source": [
        "np.percentile(arr,50)"
      ],
      "execution_count": 0,
      "outputs": [
        {
          "output_type": "execute_result",
          "data": {
            "text/plain": [
              "0.5013817731938435"
            ]
          },
          "metadata": {
            "tags": []
          },
          "execution_count": 62
        }
      ]
    },
    {
      "cell_type": "code",
      "metadata": {
        "id": "sItEUFsXqI74",
        "colab_type": "code",
        "outputId": "4c190fc4-98d5-47ee-eaa9-32529f0bfa60",
        "colab": {
          "base_uri": "https://localhost:8080/",
          "height": 34
        }
      },
      "source": [
        "np.percentile(arr,10)"
      ],
      "execution_count": 0,
      "outputs": [
        {
          "output_type": "execute_result",
          "data": {
            "text/plain": [
              "0.10062923301889312"
            ]
          },
          "metadata": {
            "tags": []
          },
          "execution_count": 63
        }
      ]
    },
    {
      "cell_type": "code",
      "metadata": {
        "id": "IQquuK2jqLch",
        "colab_type": "code",
        "outputId": "c95b8961-5a47-438c-c864-d0c4ca737819",
        "colab": {
          "base_uri": "https://localhost:8080/",
          "height": 34
        }
      },
      "source": [
        "np.percentile(arr,90)"
      ],
      "execution_count": 0,
      "outputs": [
        {
          "output_type": "execute_result",
          "data": {
            "text/plain": [
              "0.900761718151148"
            ]
          },
          "metadata": {
            "tags": []
          },
          "execution_count": 64
        }
      ]
    },
    {
      "cell_type": "code",
      "metadata": {
        "id": "VmKEwMwKqNu9",
        "colab_type": "code",
        "outputId": "80dbbcbf-0ad0-486d-fc5f-b38addaa9ebf",
        "colab": {
          "base_uri": "https://localhost:8080/",
          "height": 34
        }
      },
      "source": [
        "np.percentile(arr,75)-np.percentile(arr,25)"
      ],
      "execution_count": 0,
      "outputs": [
        {
          "output_type": "execute_result",
          "data": {
            "text/plain": [
              "0.49970522279255714"
            ]
          },
          "metadata": {
            "tags": []
          },
          "execution_count": 65
        }
      ]
    },
    {
      "cell_type": "code",
      "metadata": {
        "id": "oO1-fiGXqfbD",
        "colab_type": "code",
        "colab": {}
      },
      "source": [
        "quartile = np.percentile(arr,[75,25])"
      ],
      "execution_count": 0,
      "outputs": []
    },
    {
      "cell_type": "code",
      "metadata": {
        "id": "u-VsU2mfqndu",
        "colab_type": "code",
        "outputId": "01400f49-da4f-46e5-ec86-33ed1c4064e0",
        "colab": {
          "base_uri": "https://localhost:8080/",
          "height": 34
        }
      },
      "source": [
        "print(quartile[0]-quartile[1])"
      ],
      "execution_count": 0,
      "outputs": [
        {
          "output_type": "stream",
          "text": [
            "0.49970522279255714\n"
          ],
          "name": "stdout"
        }
      ]
    },
    {
      "cell_type": "code",
      "metadata": {
        "id": "YvM57xRNrCNV",
        "colab_type": "code",
        "outputId": "9d2b77c6-240f-4c9e-9a8e-4c84838fe22a",
        "colab": {
          "base_uri": "https://localhost:8080/",
          "height": 51
        }
      },
      "source": [
        "(arr-np.mean(arr))/np.std(arr)"
      ],
      "execution_count": 0,
      "outputs": [
        {
          "output_type": "execute_result",
          "data": {
            "text/plain": [
              "array([ 0.90132395, -0.12163431, -0.92111599, ...,  1.08880684,\n",
              "        1.08623044,  1.47049817])"
            ]
          },
          "metadata": {
            "tags": []
          },
          "execution_count": 72
        }
      ]
    },
    {
      "cell_type": "code",
      "metadata": {
        "id": "tKOBSbeErW5k",
        "colab_type": "code",
        "outputId": "d2367346-cdbd-4ac5-a0bf-101ddf8ca0b2",
        "colab": {
          "base_uri": "https://localhost:8080/",
          "height": 68
        }
      },
      "source": [
        "np.histogram(arr,bins=5)"
      ],
      "execution_count": 0,
      "outputs": [
        {
          "output_type": "execute_result",
          "data": {
            "text/plain": [
              "(array([19951, 19943, 19983, 20183, 19940]),\n",
              " array([5.99201590e-06, 2.00003682e-01, 4.00001373e-01, 5.99999063e-01,\n",
              "        7.99996754e-01, 9.99994444e-01]))"
            ]
          },
          "metadata": {
            "tags": []
          },
          "execution_count": 74
        }
      ]
    },
    {
      "cell_type": "code",
      "metadata": {
        "id": "-v9Ej6V7rOYs",
        "colab_type": "code",
        "outputId": "c1d281d1-e425-427b-af2d-2a138be76a5e",
        "colab": {
          "base_uri": "https://localhost:8080/",
          "height": 51
        }
      },
      "source": [
        "arr"
      ],
      "execution_count": 0,
      "outputs": [
        {
          "output_type": "execute_result",
          "data": {
            "text/plain": [
              "array([0.76072443, 0.46558213, 0.23491694, ..., 0.81481669, 0.81407335,\n",
              "       0.92494167])"
            ]
          },
          "metadata": {
            "tags": []
          },
          "execution_count": 70
        }
      ]
    },
    {
      "cell_type": "code",
      "metadata": {
        "id": "aiyeuc3js-3N",
        "colab_type": "code",
        "outputId": "f74c4fe1-7473-469c-be05-695874d021ca",
        "colab": {
          "base_uri": "https://localhost:8080/",
          "height": 34
        }
      },
      "source": [
        "np.digitize(arr,bins=[1,2,3])"
      ],
      "execution_count": 0,
      "outputs": [
        {
          "output_type": "execute_result",
          "data": {
            "text/plain": [
              "array([0, 0, 0, ..., 0, 0, 0])"
            ]
          },
          "metadata": {
            "tags": []
          },
          "execution_count": 75
        }
      ]
    },
    {
      "cell_type": "code",
      "metadata": {
        "id": "VGDgjyxitEnd",
        "colab_type": "code",
        "outputId": "e67dc461-b0c1-441f-dcbd-385602473a8b",
        "colab": {
          "base_uri": "https://localhost:8080/",
          "height": 34
        }
      },
      "source": [
        "arr1=np.random.randint(0,10,(10))\n",
        "print(arr1)"
      ],
      "execution_count": 0,
      "outputs": [
        {
          "output_type": "stream",
          "text": [
            "[3 0 2 5 2 3 7 4 9 8]\n"
          ],
          "name": "stdout"
        }
      ]
    },
    {
      "cell_type": "code",
      "metadata": {
        "id": "yohg-CIwtJ-2",
        "colab_type": "code",
        "outputId": "ddb7141b-1d47-4c50-ddf9-d9f318d04d7c",
        "colab": {
          "base_uri": "https://localhost:8080/",
          "height": 34
        }
      },
      "source": [
        "np.digitize(arr1,bins=[0,5,10],right=True)"
      ],
      "execution_count": 0,
      "outputs": [
        {
          "output_type": "execute_result",
          "data": {
            "text/plain": [
              "array([1, 0, 1, 1, 1, 1, 2, 1, 2, 2])"
            ]
          },
          "metadata": {
            "tags": []
          },
          "execution_count": 88
        }
      ]
    },
    {
      "cell_type": "code",
      "metadata": {
        "id": "LuFFfmBwt2SS",
        "colab_type": "code",
        "colab": {}
      },
      "source": [
        "arr1= np.random.randint(50,80,100)"
      ],
      "execution_count": 0,
      "outputs": []
    },
    {
      "cell_type": "code",
      "metadata": {
        "id": "w56Yjif4t7t6",
        "colab_type": "code",
        "colab": {}
      },
      "source": [
        "arr2= np.random.randint(150,185,100)"
      ],
      "execution_count": 0,
      "outputs": []
    },
    {
      "cell_type": "code",
      "metadata": {
        "id": "oyA7HAbhuAM6",
        "colab_type": "code",
        "colab": {}
      },
      "source": [
        "arr3=np.random.randint(17,22,100)"
      ],
      "execution_count": 0,
      "outputs": []
    },
    {
      "cell_type": "code",
      "metadata": {
        "id": "-8yZ0xGTuETL",
        "colab_type": "code",
        "outputId": "efb32b6e-fd7a-4c1f-b751-3758b164f502",
        "colab": {
          "base_uri": "https://localhost:8080/",
          "height": 425
        }
      },
      "source": [
        "np.concatenate((arr1,arr2,arr3))"
      ],
      "execution_count": 0,
      "outputs": [
        {
          "output_type": "execute_result",
          "data": {
            "text/plain": [
              "array([ 56,  70,  72,  59,  79,  51,  66,  52,  79,  60,  79,  75,  50,\n",
              "        74,  69,  65,  73,  62,  57,  73,  65,  66,  71,  54,  77,  71,\n",
              "        67,  79,  50,  54,  66,  53,  60,  52,  56,  78,  51,  75,  64,\n",
              "        53,  63,  58,  64,  72,  71,  56,  66,  50,  75,  57,  51,  78,\n",
              "        71,  74,  55,  76,  68,  57,  74,  69,  52,  69,  55,  79,  78,\n",
              "        51,  62,  51,  65,  50,  54,  54,  58,  71,  53,  52,  56,  64,\n",
              "        52,  71,  64,  79,  79,  62,  58,  58,  69,  54,  67,  62,  68,\n",
              "        57,  52,  67,  72,  54,  53,  61,  69,  51, 158, 178, 154, 164,\n",
              "       176, 181, 177, 163, 158, 172, 167, 164, 163, 176, 184, 156, 169,\n",
              "       163, 173, 168, 160, 167, 182, 152, 168, 174, 151, 168, 158, 162,\n",
              "       179, 173, 165, 174, 176, 171, 160, 155, 153, 174, 159, 164, 184,\n",
              "       177, 168, 169, 183, 151, 169, 175, 182, 166, 183, 157, 177, 151,\n",
              "       150, 169, 159, 172, 184, 152, 183, 181, 170, 162, 161, 163, 170,\n",
              "       172, 175, 162, 167, 163, 174, 159, 156, 178, 183, 152, 179, 159,\n",
              "       153, 167, 160, 165, 173, 170, 160, 172, 152, 154, 163, 169, 174,\n",
              "       164, 170, 179, 154, 161,  19,  18,  21,  17,  20,  20,  21,  19,\n",
              "        21,  21,  19,  21,  17,  21,  19,  18,  19,  20,  20,  20,  18,\n",
              "        18,  17,  20,  17,  17,  18,  20,  19,  19,  21,  18,  17,  21,\n",
              "        20,  19,  19,  18,  17,  21,  21,  18,  19,  18,  19,  21,  21,\n",
              "        18,  18,  20,  18,  21,  17,  21,  19,  20,  20,  19,  21,  18,\n",
              "        21,  20,  18,  17,  19,  20,  17,  18,  19,  18,  20,  20,  17,\n",
              "        17,  19,  21,  18,  19,  17,  18,  20,  17,  20,  19,  19,  17,\n",
              "        18,  18,  17,  19,  20,  18,  18,  20,  20,  18,  19,  18,  19,\n",
              "        21])"
            ]
          },
          "metadata": {
            "tags": []
          },
          "execution_count": 15
        }
      ]
    },
    {
      "cell_type": "markdown",
      "metadata": {
        "id": "AWHInwz8uWFY",
        "colab_type": "text"
      },
      "source": [
        "Not right because we need 3*100 shape"
      ]
    },
    {
      "cell_type": "code",
      "metadata": {
        "id": "FwsJtSI0uZ0C",
        "colab_type": "code",
        "outputId": "c57f8bb9-01fb-497b-9254-456525e1e839",
        "colab": {
          "base_uri": "https://localhost:8080/",
          "height": 323
        }
      },
      "source": [
        "arr2d = np.vstack((arr1,arr2,arr3))\n",
        "print(arr2d)"
      ],
      "execution_count": 0,
      "outputs": [
        {
          "output_type": "stream",
          "text": [
            "[[ 56  70  72  59  79  51  66  52  79  60  79  75  50  74  69  65  73  62\n",
            "   57  73  65  66  71  54  77  71  67  79  50  54  66  53  60  52  56  78\n",
            "   51  75  64  53  63  58  64  72  71  56  66  50  75  57  51  78  71  74\n",
            "   55  76  68  57  74  69  52  69  55  79  78  51  62  51  65  50  54  54\n",
            "   58  71  53  52  56  64  52  71  64  79  79  62  58  58  69  54  67  62\n",
            "   68  57  52  67  72  54  53  61  69  51]\n",
            " [158 178 154 164 176 181 177 163 158 172 167 164 163 176 184 156 169 163\n",
            "  173 168 160 167 182 152 168 174 151 168 158 162 179 173 165 174 176 171\n",
            "  160 155 153 174 159 164 184 177 168 169 183 151 169 175 182 166 183 157\n",
            "  177 151 150 169 159 172 184 152 183 181 170 162 161 163 170 172 175 162\n",
            "  167 163 174 159 156 178 183 152 179 159 153 167 160 165 173 170 160 172\n",
            "  152 154 163 169 174 164 170 179 154 161]\n",
            " [ 19  18  21  17  20  20  21  19  21  21  19  21  17  21  19  18  19  20\n",
            "   20  20  18  18  17  20  17  17  18  20  19  19  21  18  17  21  20  19\n",
            "   19  18  17  21  21  18  19  18  19  21  21  18  18  20  18  21  17  21\n",
            "   19  20  20  19  21  18  21  20  18  17  19  20  17  18  19  18  20  20\n",
            "   17  17  19  21  18  19  17  18  20  17  20  19  19  17  18  18  17  19\n",
            "   20  18  18  20  20  18  19  18  19  21]]\n"
          ],
          "name": "stdout"
        }
      ]
    },
    {
      "cell_type": "code",
      "metadata": {
        "id": "eHlBXZPQtw_2",
        "colab_type": "code",
        "outputId": "77144ad0-8d1c-4c94-c1c4-b3c46db988a9",
        "colab": {
          "base_uri": "https://localhost:8080/",
          "height": 34
        }
      },
      "source": [
        "np.amin(arr2d)"
      ],
      "execution_count": 0,
      "outputs": [
        {
          "output_type": "execute_result",
          "data": {
            "text/plain": [
              "17"
            ]
          },
          "metadata": {
            "tags": []
          },
          "execution_count": 17
        }
      ]
    },
    {
      "cell_type": "code",
      "metadata": {
        "id": "G1vapVtRu13G",
        "colab_type": "code",
        "outputId": "1b41f757-ca6f-4939-d865-985ea761a4fd",
        "colab": {
          "base_uri": "https://localhost:8080/",
          "height": 34
        }
      },
      "source": [
        "np.amin(arr2d,axis=1 )"
      ],
      "execution_count": 0,
      "outputs": [
        {
          "output_type": "execute_result",
          "data": {
            "text/plain": [
              "array([ 50, 150,  17])"
            ]
          },
          "metadata": {
            "tags": []
          },
          "execution_count": 22
        }
      ]
    },
    {
      "cell_type": "markdown",
      "metadata": {
        "id": "bJwgm9DglDft",
        "colab_type": "text"
      },
      "source": [
        "# Checking stats rules with numpy\n"
      ]
    },
    {
      "cell_type": "code",
      "metadata": {
        "id": "_Mz_ksL7lG5Y",
        "colab_type": "code",
        "colab": {}
      },
      "source": [
        "import numpy as np\n",
        "arr = np.random.rand(1000)"
      ],
      "execution_count": 0,
      "outputs": []
    },
    {
      "cell_type": "code",
      "metadata": {
        "id": "9aKUdVlOlZh3",
        "colab_type": "code",
        "colab": {}
      },
      "source": [
        "mean = np.mean(arr)"
      ],
      "execution_count": 0,
      "outputs": []
    },
    {
      "cell_type": "code",
      "metadata": {
        "id": "YuLY82TwlcPd",
        "colab_type": "code",
        "colab": {}
      },
      "source": [
        "arr1 = arr-mean"
      ],
      "execution_count": 0,
      "outputs": []
    },
    {
      "cell_type": "code",
      "metadata": {
        "id": "yWvP8r66lfkd",
        "colab_type": "code",
        "outputId": "6af9c4d7-68cd-4c5a-b0b8-2802058a641c",
        "colab": {
          "base_uri": "https://localhost:8080/",
          "height": 34
        }
      },
      "source": [
        "np.mean(arr1)"
      ],
      "execution_count": 0,
      "outputs": [
        {
          "output_type": "execute_result",
          "data": {
            "text/plain": [
              "-4.39648317751562e-17"
            ]
          },
          "metadata": {
            "tags": []
          },
          "execution_count": 7
        }
      ]
    },
    {
      "cell_type": "markdown",
      "metadata": {
        "id": "eivgb3C2lmPl",
        "colab_type": "text"
      },
      "source": [
        "# Computing mean with smaller set of values"
      ]
    },
    {
      "cell_type": "code",
      "metadata": {
        "id": "BymVm6t8lpSs",
        "colab_type": "code",
        "colab": {}
      },
      "source": [
        "arr = np.random.rand(1000)"
      ],
      "execution_count": 0,
      "outputs": []
    },
    {
      "cell_type": "code",
      "metadata": {
        "id": "ra9vZiHUlwcs",
        "colab_type": "code",
        "colab": {}
      },
      "source": [
        "for k in range(1,50):\n",
        "  arr1 = arr[0:k]\n",
        "  print(k,np.mean(arr1))"
      ],
      "execution_count": 0,
      "outputs": []
    },
    {
      "cell_type": "code",
      "metadata": {
        "id": "ByxKi-x_r3SA",
        "colab_type": "code",
        "colab": {}
      },
      "source": [
        "np.cumsum?\n"
      ],
      "execution_count": 0,
      "outputs": []
    },
    {
      "cell_type": "code",
      "metadata": {
        "id": "WSIjIUUdsAH9",
        "colab_type": "code",
        "colab": {}
      },
      "source": [
        ""
      ],
      "execution_count": 0,
      "outputs": []
    },
    {
      "cell_type": "markdown",
      "metadata": {
        "id": "yrhKxgXhsUmO",
        "colab_type": "text"
      },
      "source": [
        "# Effect of outliers on mean and median"
      ]
    },
    {
      "cell_type": "code",
      "metadata": {
        "id": "fs5mlbnXsYXj",
        "colab_type": "code",
        "colab": {}
      },
      "source": [
        "arr = np.random.randint(1,100,100)"
      ],
      "execution_count": 0,
      "outputs": []
    },
    {
      "cell_type": "code",
      "metadata": {
        "id": "4SVzMpbGso50",
        "colab_type": "code",
        "outputId": "08d108a1-457e-48ea-f60a-aeb45311709f",
        "colab": {
          "base_uri": "https://localhost:8080/",
          "height": 34
        }
      },
      "source": [
        "np.mean(arr)"
      ],
      "execution_count": 0,
      "outputs": [
        {
          "output_type": "execute_result",
          "data": {
            "text/plain": [
              "48.25"
            ]
          },
          "metadata": {
            "tags": []
          },
          "execution_count": 32
        }
      ]
    },
    {
      "cell_type": "code",
      "metadata": {
        "id": "0gfWnsjLss4I",
        "colab_type": "code",
        "outputId": "37a6bde6-46a0-4610-a5aa-2d22a17d7db5",
        "colab": {
          "base_uri": "https://localhost:8080/",
          "height": 34
        }
      },
      "source": [
        "np.median(arr)"
      ],
      "execution_count": 0,
      "outputs": [
        {
          "output_type": "execute_result",
          "data": {
            "text/plain": [
              "46.5"
            ]
          },
          "metadata": {
            "tags": []
          },
          "execution_count": 33
        }
      ]
    },
    {
      "cell_type": "code",
      "metadata": {
        "id": "XPY0LtK3tBRm",
        "colab_type": "code",
        "colab": {}
      },
      "source": [
        ""
      ],
      "execution_count": 0,
      "outputs": []
    },
    {
      "cell_type": "code",
      "metadata": {
        "id": "bjtd7KOmsvKH",
        "colab_type": "code",
        "colab": {}
      },
      "source": [
        "arr = np.append(arr,[1000,2000])"
      ],
      "execution_count": 0,
      "outputs": []
    },
    {
      "cell_type": "code",
      "metadata": {
        "id": "XCvv7VdOtD9L",
        "colab_type": "code",
        "outputId": "78fb7a5f-13f4-45db-87b9-190133a55e37",
        "colab": {
          "base_uri": "https://localhost:8080/",
          "height": 34
        }
      },
      "source": [
        "np.mean(arr)"
      ],
      "execution_count": 0,
      "outputs": [
        {
          "output_type": "execute_result",
          "data": {
            "text/plain": [
              "76.7156862745098"
            ]
          },
          "metadata": {
            "tags": []
          },
          "execution_count": 36
        }
      ]
    },
    {
      "cell_type": "code",
      "metadata": {
        "id": "U8KTXpHQtNBR",
        "colab_type": "code",
        "outputId": "d819cf66-ab40-4bdf-83e3-396d6ee17f0a",
        "colab": {
          "base_uri": "https://localhost:8080/",
          "height": 34
        }
      },
      "source": [
        "np.median(arr)"
      ],
      "execution_count": 0,
      "outputs": [
        {
          "output_type": "execute_result",
          "data": {
            "text/plain": [
              "47.0"
            ]
          },
          "metadata": {
            "tags": []
          },
          "execution_count": 37
        }
      ]
    },
    {
      "cell_type": "markdown",
      "metadata": {
        "id": "fY_1tSTctRLE",
        "colab_type": "text"
      },
      "source": [
        "# Effect of scaling arrays on mean and median"
      ]
    },
    {
      "cell_type": "code",
      "metadata": {
        "id": "DCHDPjqItVAv",
        "colab_type": "code",
        "colab": {}
      },
      "source": [
        "arr = np.random.rand(100)"
      ],
      "execution_count": 0,
      "outputs": []
    },
    {
      "cell_type": "code",
      "metadata": {
        "id": "vVfXPsWrtYRI",
        "colab_type": "code",
        "outputId": "3ac468f0-6d4c-45e8-f83b-1589f11dd9cb",
        "colab": {
          "base_uri": "https://localhost:8080/",
          "height": 34
        }
      },
      "source": [
        "np.mean(arr)"
      ],
      "execution_count": 0,
      "outputs": [
        {
          "output_type": "execute_result",
          "data": {
            "text/plain": [
              "0.5296761220892419"
            ]
          },
          "metadata": {
            "tags": []
          },
          "execution_count": 41
        }
      ]
    },
    {
      "cell_type": "code",
      "metadata": {
        "id": "XQ1PRow_tcLq",
        "colab_type": "code",
        "colab": {}
      },
      "source": [
        ""
      ],
      "execution_count": 0,
      "outputs": []
    },
    {
      "cell_type": "code",
      "metadata": {
        "id": "KqFp1hxRtfL8",
        "colab_type": "code",
        "colab": {}
      },
      "source": [
        ""
      ],
      "execution_count": 0,
      "outputs": []
    },
    {
      "cell_type": "code",
      "metadata": {
        "id": "honMoqLftaCP",
        "colab_type": "code",
        "outputId": "66cde00b-b71b-4d9c-b200-fecfa96935ff",
        "colab": {
          "base_uri": "https://localhost:8080/",
          "height": 34
        }
      },
      "source": [
        "np.median(arr)"
      ],
      "execution_count": 0,
      "outputs": [
        {
          "output_type": "execute_result",
          "data": {
            "text/plain": [
              "0.5564283189600674"
            ]
          },
          "metadata": {
            "tags": []
          },
          "execution_count": 40
        }
      ]
    },
    {
      "cell_type": "code",
      "metadata": {
        "id": "j-GL-CtItf8N",
        "colab_type": "code",
        "colab": {}
      },
      "source": [
        "arr1 = 2.5 * arr +0.65"
      ],
      "execution_count": 0,
      "outputs": []
    },
    {
      "cell_type": "code",
      "metadata": {
        "id": "IzoRIq96tpBe",
        "colab_type": "code",
        "outputId": "bb035a9b-fb77-4542-84b1-89fb34c830fa",
        "colab": {
          "base_uri": "https://localhost:8080/",
          "height": 34
        }
      },
      "source": [
        "print(np.mean(arr1))"
      ],
      "execution_count": 0,
      "outputs": [
        {
          "output_type": "stream",
          "text": [
            "1.9741903052231047\n"
          ],
          "name": "stdout"
        }
      ]
    },
    {
      "cell_type": "code",
      "metadata": {
        "id": "sLs90Favtwew",
        "colab_type": "code",
        "outputId": "434de276-b500-44df-f27d-f1bd044335cd",
        "colab": {
          "base_uri": "https://localhost:8080/",
          "height": 34
        }
      },
      "source": [
        "print(np.mean(2.5*arr+0.65),2.5*np.mean(arr)+0.65)"
      ],
      "execution_count": 0,
      "outputs": [
        {
          "output_type": "stream",
          "text": [
            "1.9741903052231047 1.9741903052231047\n"
          ],
          "name": "stdout"
        }
      ]
    },
    {
      "cell_type": "code",
      "metadata": {
        "id": "X3r9oO5gt5tq",
        "colab_type": "code",
        "outputId": "8dc61c10-5ffc-4411-f37e-e4786a886beb",
        "colab": {
          "base_uri": "https://localhost:8080/",
          "height": 34
        }
      },
      "source": [
        "print(np.var(2.5*arr+0.65),2.5*2.5*np.var(arr))"
      ],
      "execution_count": 0,
      "outputs": [
        {
          "output_type": "stream",
          "text": [
            "0.45549261686998327 0.4554926168699834\n"
          ],
          "name": "stdout"
        }
      ]
    },
    {
      "cell_type": "code",
      "metadata": {
        "id": "rj8oEVmIuJ-E",
        "colab_type": "code",
        "outputId": "2cd31523-c5d8-487f-ac85-c743e572fa7d",
        "colab": {
          "base_uri": "https://localhost:8080/",
          "height": 34
        }
      },
      "source": [
        "print(np.std(2.5*arr+0.65),2.5*np.std(arr))"
      ],
      "execution_count": 0,
      "outputs": [
        {
          "output_type": "stream",
          "text": [
            "0.6749019312981578 0.6749019312981579\n"
          ],
          "name": "stdout"
        }
      ]
    },
    {
      "cell_type": "code",
      "metadata": {
        "id": "osG4Rgs5u4Lu",
        "colab_type": "code",
        "colab": {}
      },
      "source": [
        ""
      ],
      "execution_count": 0,
      "outputs": []
    },
    {
      "cell_type": "markdown",
      "metadata": {
        "id": "96wOJcB8u4qh",
        "colab_type": "text"
      },
      "source": [
        "# Case study"
      ]
    },
    {
      "cell_type": "code",
      "metadata": {
        "id": "qawXMDzrvI40",
        "colab_type": "code",
        "colab": {}
      },
      "source": [
        ""
      ],
      "execution_count": 0,
      "outputs": []
    },
    {
      "cell_type": "code",
      "metadata": {
        "id": "WFlGxDE0u6K6",
        "colab_type": "code",
        "outputId": "6a8339ab-9064-4139-d1c7-2222544429ef",
        "colab": {
          "base_uri": "https://localhost:8080/",
          "height": 187
        }
      },
      "source": [
        "!head cric_data.tsv\n"
      ],
      "execution_count": 0,
      "outputs": [
        {
          "output_type": "stream",
          "text": [
            "\tSachin Tendulkar\tRahul Dravid\tIndia\n",
            "0\t100\t78\t342\n",
            "1\t11\t62\t191\n",
            "2\t8\t85\t252\n",
            "3\t71\t24\t307\n",
            "4\t104\t17\t229\n",
            "5\t18\t104\t246\n",
            "6\t8\t76\t226\n",
            "7\t86\t74\t288\n",
            "8\t12\t60\t216\n"
          ],
          "name": "stdout"
        }
      ]
    },
    {
      "cell_type": "code",
      "metadata": {
        "id": "_-II9i6lvQ4z",
        "colab_type": "code",
        "colab": {}
      },
      "source": [
        ""
      ],
      "execution_count": 0,
      "outputs": []
    },
    {
      "cell_type": "markdown",
      "metadata": {
        "id": "icMVkJNovRPW",
        "colab_type": "text"
      },
      "source": [
        "1. Find mean,median,IQR for Sachin,Rahul, and India\n",
        "2. Find the histogram of Sachin's scores with 10bins\n",
        "3. Find mean of Sachin's scores grouped by 25 matches\n",
        "4. Find mean of sachin's scores where he has a score a century\n",
        "5. Find mean of Sachin's scores when Rahul has scored less than 10\n",
        "6. Find mean for Sachin's scores based on which quartile India's score falls in\n",
        "7.For every match find out who has scored - Sachin or Rahul\n",
        "8. How many more runs does Sachin score on average after having scored x runs?\n"
      ]
    },
    {
      "cell_type": "markdown",
      "metadata": {
        "id": "5EnV7SYwK6dk",
        "colab_type": "text"
      },
      "source": [
        "# Basic Excercises of numpy"
      ]
    },
    {
      "cell_type": "code",
      "metadata": {
        "id": "r02LARD9K_QA",
        "colab_type": "code",
        "colab": {}
      },
      "source": [
        ""
      ],
      "execution_count": 0,
      "outputs": []
    },
    {
      "cell_type": "markdown",
      "metadata": {
        "id": "DTc1f65UFSzJ",
        "colab_type": "text"
      },
      "source": [
        "# How can we insure that we always get the same random number"
      ]
    },
    {
      "cell_type": "code",
      "metadata": {
        "id": "BoAMKH72Fcik",
        "colab_type": "code",
        "colab": {}
      },
      "source": [
        "np.random.seed(5)"
      ],
      "execution_count": 0,
      "outputs": []
    },
    {
      "cell_type": "code",
      "metadata": {
        "id": "lp3VeXC-Fh2D",
        "colab_type": "code",
        "outputId": "08d4621b-ec43-4e51-c504-1e0ccdf5e884",
        "colab": {
          "base_uri": "https://localhost:8080/",
          "height": 34
        }
      },
      "source": [
        "np.random.rand(1) # Run np.random.seed(5) to get always [0.22199317]"
      ],
      "execution_count": 0,
      "outputs": [
        {
          "output_type": "execute_result",
          "data": {
            "text/plain": [
              "array([0.91861091])"
            ]
          },
          "metadata": {
            "tags": []
          },
          "execution_count": 46
        }
      ]
    }
  ]
}